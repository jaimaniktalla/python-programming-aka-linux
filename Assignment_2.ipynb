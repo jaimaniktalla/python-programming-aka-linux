{
  "metadata": {
    "kernelspec": {
      "name": "python",
      "display_name": "Python (Pyodide)",
      "language": "python"
    },
    "language_info": {
      "codemirror_mode": {
        "name": "python",
        "version": 3
      },
      "file_extension": ".py",
      "mimetype": "text/x-python",
      "name": "python",
      "nbconvert_exporter": "python",
      "pygments_lexer": "ipython3",
      "version": "3.8"
    }
  },
  "nbformat_minor": 4,
  "nbformat": 4,
  "cells": [
    {
      "cell_type": "code",
      "source": "def greet(name, greeting=\"Hello\"):\n    return f\"{greeting} {name}\"\n\n# Example usage\nprint(greet(\"Alice\"))  # Output: \"Hello Alice\"\nprint(greet(\"Bob\", \"Good Morning\"))  # Output: \"Good Morning Bob\"",
      "metadata": {
        "trusted": true
      },
      "outputs": [
        {
          "name": "stdout",
          "text": "Hello Alice\nGood Morning Bob\n",
          "output_type": "stream"
        }
      ],
      "execution_count": 18
    },
    {
      "cell_type": "code",
      "source": "def create_profile(*, name, age=10, city):\n    return f\"Name: {name}, Age: {age}, City: {city}\"\n\n# Example usage\nprint(create_profile(name=\"John\", city=\"Chicago\"))  \n# Output: \"Name: John, Age: 10, City: Chicago\"\n\nprint(create_profile(name=\"Emma\", age=22, city=\"Los Angeles\"))  \n# Output: \"Name: Emma, Age: 22, City: Los Angeles\"",
      "metadata": {
        "trusted": true
      },
      "outputs": [
        {
          "name": "stdout",
          "text": "Name: John, Age: 10, City: Chicago\nName: Emma, Age: 22, City: Los Angeles\n",
          "output_type": "stream"
        }
      ],
      "execution_count": 19
    },
    {
      "cell_type": "code",
      "source": "def sum_numbers(*args, **kwargs):\n    total = sum(arg for arg in args if isinstance(arg, (int, float)))\n    return (total, kwargs)\n\n# Example usage\nprint(sum_numbers(1, 2, 3))  \n# Output: 6\n\nprint(sum_numbers(1, 2, x=4, y=5))  \n# Output: (6, {'x': 4, 'y': 5})\n",
      "metadata": {
        "trusted": true
      },
      "outputs": [
        {
          "name": "stdout",
          "text": "(6, {})\n(3, {'x': 4, 'y': 5})\n",
          "output_type": "stream"
        }
      ],
      "execution_count": 20
    },
    {
      "cell_type": "code",
      "source": "def square_list(numbers):\n    return list(map(lambda x: x**2, numbers))\n\n# Example usage\nprint(square_list([1, 2, 3, 4]))  \n# Output: [1, 4, 9, 16]",
      "metadata": {
        "trusted": true
      },
      "outputs": [
        {
          "name": "stdout",
          "text": "[1, 4, 9, 16]\n",
          "output_type": "stream"
        }
      ],
      "execution_count": 22
    },
    {
      "cell_type": "code",
      "source": "def filter_odd_numbers(numbers):\n    return list(filter(lambda x: x % 2 == 0, numbers))\n\n# Example usage\nprint(filter_odd_numbers([1, 2, 3, 4, 5]))  \n# Output: [2, 4]",
      "metadata": {
        "trusted": true
      },
      "outputs": [
        {
          "name": "stdout",
          "text": "[2, 4]\n",
          "output_type": "stream"
        }
      ],
      "execution_count": 23
    },
    {
      "cell_type": "code",
      "source": "squares = [x**2 for x in range(5)]\n\n# Example usage\nprint(squares)\n# Output: [0, 1, 4, 9, 16]",
      "metadata": {
        "trusted": true
      },
      "outputs": [
        {
          "name": "stdout",
          "text": "[0, 1, 4, 9, 16]\n",
          "output_type": "stream"
        }
      ],
      "execution_count": 24
    },
    {
      "cell_type": "code",
      "source": "even_numbers = [x for x in range(1, 21) if x % 2 == 0]\n\n# Example usage\nprint(even_numbers)\n# Output: [2, 4, 6, 8, 10, 12, 14, 16, 18, 20]",
      "metadata": {
        "trusted": true
      },
      "outputs": [
        {
          "name": "stdout",
          "text": "[2, 4, 6, 8, 10, 12, 14, 16, 18, 20]\n",
          "output_type": "stream"
        }
      ],
      "execution_count": 25
    },
    {
      "cell_type": "code",
      "source": "import os\nimport time\n\ndef file_operations():\n    # Create a directory named \"test_folder\"\n    os.makedirs(\"test_folder\", exist_ok=True)\n    print(\"Directory 'test_folder' created.\")\n    \n    # Pause the execution for 3 seconds\n    time.sleep(3)\n    \n    # Remove the directory named \"test_folder\"\n    os.rmdir(\"test_folder\")\n    print(\"Directory 'test_folder' deleted.\")\n\n# Example usage\nfile_operations()",
      "metadata": {
        "trusted": true
      },
      "outputs": [
        {
          "name": "stdout",
          "text": "Directory 'test_folder' created.\nDirectory 'test_folder' deleted.\n",
          "output_type": "stream"
        }
      ],
      "execution_count": 26
    },
    {
      "cell_type": "code",
      "source": "from time import sleep as pause\n\n# Pause for 2 seconds\npause(2)  \nprint(\"Paused execution...\")",
      "metadata": {
        "trusted": true
      },
      "outputs": [
        {
          "name": "stdout",
          "text": "Paused execution...\n",
          "output_type": "stream"
        }
      ],
      "execution_count": 27
    },
    {
      "cell_type": "code",
      "source": "def flatten_list(nested_list):\n    flat_list = []\n    for item in nested_list:\n        if isinstance(item, list):\n            # If the item is a list, recursively flatten it\n            flat_list.extend(flatten_list(item))\n        else:\n            # If the item is not a list, append it to flat_list\n            flat_list.append(item)\n    return flat_list\n\n# Example usage\nprint(flatten_list([1, [2, 3], [[4, 5], 6]]))  \n# Output: [1, 2, 3, 4, 5, 6]\n\nprint(flatten_list([[1, 2], [3, [4, [5]]]]))  \n# Output: [1, 2, 3, 4, 5]",
      "metadata": {
        "trusted": true
      },
      "outputs": [
        {
          "name": "stdout",
          "text": "[1, 2, 3, 4, 5, 6]\n[1, 2, 3, 4, 5]\n",
          "output_type": "stream"
        }
      ],
      "execution_count": 28
    }
  ]
}